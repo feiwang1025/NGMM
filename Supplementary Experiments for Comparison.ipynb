{
 "cells": [
  {
   "cell_type": "code",
   "execution_count": 1,
   "metadata": {},
   "outputs": [
    {
     "name": "stderr",
     "output_type": "stream",
     "text": [
      "C:\\ProgramData\\Anaconda3\\lib\\site-packages\\statsmodels\\tools\\_testing.py:19: FutureWarning: pandas.util.testing is deprecated. Use the functions in the public API at pandas.testing instead.\n",
      "  import pandas.util.testing as tm\n"
     ]
    }
   ],
   "source": [
    "import os\n",
    "from numpy import *\n",
    "import operator\n",
    "import matplotlib.pyplot as plt\n",
    "from mpl_toolkits.mplot3d import Axes3D\n",
    "import time\n",
    "from sklearn.datasets import fetch_openml\n",
    "from sklearn.preprocessing import StandardScaler,MinMaxScaler\n",
    "from sklearn.model_selection import train_test_split,\n",
    "import pandas as pd\n",
    "from sklearn.neighbors import kneighbors_graph,NearestNeighbors\n",
    "from sklearn import datasets\n",
    "import random as rd\n",
    "\n",
    "from sklearn.metrics import pairwise,fowlkes_mallows_score,mutual_info_score,adjusted_mutual_info_score,adjusted_rand_score\n",
    "import seaborn as sns"
   ]
  },
  {
   "cell_type": "code",
   "execution_count": 608,
   "metadata": {},
   "outputs": [],
   "source": [
    "from sklearn.cluster import estimate_bandwidth,get_bin_seeds"
   ]
  },
  {
   "cell_type": "code",
   "execution_count": 6,
   "metadata": {},
   "outputs": [],
   "source": [
    "import sys\n",
    "sys.path.append(\"..\")\n",
    "from Mytools import DensityPeakClustering"
   ]
  },
  {
   "cell_type": "code",
   "execution_count": 179,
   "metadata": {},
   "outputs": [],
   "source": [
    "def DP_score3(data,target,n_cluster=3):\n",
    "    #dp_range=linspace(0.005,0.0150,10\n",
    "    dp_range=linspace(0.01,0.80,5)\n",
    "    score_3=zeros((dp_range.shape[0],3))\n",
    "    for k,i in enumerate(dp_range):\n",
    "        bandwidth=estimate_bandwidth(data,quantile=i,n_jobs=-1)\n",
    "        dpc_mat=DensityPeakClustering.dpcluster(data, bandwidth=bandwidth, clusterNumber=n_cluster, γ=0, plot=False)\n",
    "        score_3[k,0]=adjusted_rand_score(target,dpc_mat[:,0])\n",
    "        score_3[k,1]=fowlkes_mallows_score(target,dpc_mat[:,0])\n",
    "        score_3[k,2]=adjusted_mutual_info_score(target,dpc_mat[:,0])\n",
    "        \n",
    "    max_ari_index=argmax(score_3[:,0])\n",
    "    print('DPC Optimal bandwidth:',estimate_bandwidth(data,quantile=dp_range[max_ari_index],n_jobs=-1))\n",
    "    ARIscore=score_3[max_ari_index,0]\n",
    "    FMIscore=score_3[max_ari_index,1]\n",
    "    AMIscore=score_3[max_ari_index,2]\n",
    "    print('maxAri:%f,maxFmi:%f,maxAmi:%f'%(ARIscore,FMIscore,AMIscore)) \n",
    "      \n",
    "        \n",
    "    return score_3[max_ari_index,:]\n",
    "\n",
    "\n",
    "def DPCtest(data,target):\n",
    "    n_cluster=unique(target).shape[0]\n",
    "    scores_3=DP_score3(data,target,n_cluster=n_cluster)\n",
    "    ARI=['DensityPeaks',scores_3[0],'ARI']\n",
    "    FMI=['DensityPeaks',scores_3[1],'FMI']\n",
    "    AMI=['DensityPeaks',scores_3[2],'AMI']\n",
    "    results=[ARI,FMI,AMI]\n",
    "    df=pd.DataFrame(results,columns=['Algorithm','score','Criterion'])\n",
    "    return df"
   ]
  },
  {
   "cell_type": "markdown",
   "metadata": {},
   "source": [
    "# Hierarchical/Agg"
   ]
  },
  {
   "cell_type": "code",
   "execution_count": null,
   "metadata": {},
   "outputs": [],
   "source": [
    "from sklearn.cluster import AgglomerativeClustering"
   ]
  },
  {
   "cell_type": "code",
   "execution_count": 13,
   "metadata": {},
   "outputs": [],
   "source": [
    "def AggScore3(data,target):\n",
    "    n_clusters=len(pd.unique(target))\n",
    "    linktypes=['ward', 'average','single' ]#,'complete'\n",
    "    m=len(linktypes)\n",
    "    s3=zeros((m,4))\n",
    "    for i,lt in enumerate(linktypes):\n",
    "        start=time.time()\n",
    "        Agg=AgglomerativeClustering(n_clusters=n_clusters,linkage=lt,)\n",
    "        labels=Agg.fit_predict(data)\n",
    "        runtime=time.time()-start\n",
    "        s3[i,0]=adjusted_rand_score(target,labels)\n",
    "        s3[i,1]=fowlkes_mallows_score(target,labels)  \n",
    "        s3[i,2]=adjusted_mutual_info_score(target,labels)  \n",
    "        s3[i,3]=runtime\n",
    "    return s3\n",
    "\n",
    "def Aggtest(data,target):\n",
    "    scores_3=AggScore3(data,target)\n",
    "    linktypes=['ward', 'average', 'single']#, 'complete'\n",
    "    critera=['ARI','FMI','AMI','RunTime']\n",
    "    lp4=[]\n",
    "    for i,lt in enumerate(linktypes):\n",
    "        for j,cri in enumerate(critera):\n",
    "            list1=[lt,cri,scores_3[i,j],]\n",
    "            lp4.append(list1)\n",
    "            \n",
    "    df=pd.DataFrame(lp4,columns=['Algorithm','Criterion','Score'])\n",
    "    return df                   \n",
    "                   "
   ]
  },
  {
   "cell_type": "markdown",
   "metadata": {},
   "source": [
    "# GMM"
   ]
  },
  {
   "cell_type": "code",
   "execution_count": 595,
   "metadata": {},
   "outputs": [],
   "source": [
    "from sklearn.mixture import GaussianMixture as GMM\n",
    "from sklearn.mixture import BayesianGaussianMixture\n",
    "def GMMtest(data,target,n_init=1,random_state=0):\n",
    "    n_clusters=len(pd.unique(target))\n",
    "    start_model1=time.time()\n",
    "    model1=GMM(n_components=n_clusters, covariance_type='spherical',n_init=n_init,random_state=random_state)#BayesianGaussianMixture\n",
    "    labels1=model1.fit_predict(data)\n",
    "    end_model1=time.time()\n",
    "    \n",
    "    runtime_model1=end_model1-start_model1\n",
    "    \n",
    "    s1=adjusted_rand_score(target,labels1)\n",
    "    s2=fowlkes_mallows_score(target,labels1)  \n",
    "    s3=adjusted_mutual_info_score(target,labels1)  \n",
    "\n",
    "   \n",
    "    model2=GMM(n_components=n_clusters, covariance_type='diag',n_init=n_init,random_state=random_state)\n",
    "    labels2=model2.fit_predict(data)\n",
    "    end_model2=time.time()\n",
    "    runtime_model2=end_model2-end_model1\n",
    "    \n",
    "    s4=adjusted_rand_score(target,labels2)\n",
    "    s5=fowlkes_mallows_score(target,labels2)  \n",
    "    s6=adjusted_mutual_info_score(target,labels2)  \n",
    "    \n",
    "    model3=GMM(n_components=n_clusters, covariance_type='full',n_init=n_init,random_state=random_state)\n",
    "    labels3=model3.fit_predict(data)\n",
    "    end_model3=time.time()\n",
    "    runtime_model3=end_model3-end_model2\n",
    "    \n",
    "    s7=adjusted_rand_score(target,labels3)\n",
    "    s8=fowlkes_mallows_score(target,labels3)  \n",
    "    s9=adjusted_mutual_info_score(target,labels3) \n",
    "    \n",
    "    \n",
    "    criteria=['ARI','FMI','AMI']\n",
    "    \n",
    "    ARI=['EM(spherical)','ARI',s1]\n",
    "    FMI=['EM(spherical)','FMI',s2]\n",
    "    AMI=['EM(spherical)','AMI',s3]\n",
    "    RunTime=['EM(spherical)','RunTime',runtime_model1]\n",
    "    \n",
    "    ARI2=['EM(diag)','ARI',s4]\n",
    "    FMI2=['EM(diag)','FMI',s5]\n",
    "    AMI2=['EM(diag)','AMI',s6]\n",
    "    RunTime2=['EM(diag)','RunTime',runtime_model2]\n",
    "    \n",
    "    ARI3=['EM(full)','ARI',s7]\n",
    "    FMI3=['EM(full)','FMI',s8]\n",
    "    AMI3=['EM(full)','AMI',s9]\n",
    "    RunTime3=['EM(full)','RunTime',runtime_model3]\n",
    "    \n",
    "    \n",
    "    results=[ARI,FMI,AMI,RunTime,ARI2,FMI2,AMI2,RunTime2,ARI3,FMI3,AMI3,RunTime3]\n",
    "    df=pd.DataFrame(results,columns=['Algorithm','Criterion','Score'])\n",
    "    runtime=[runtime_model1,runtime_model2,runtime_model3]\n",
    "    return df"
   ]
  },
  {
   "cell_type": "markdown",
   "metadata": {},
   "source": [
    "# RunTimeTest"
   ]
  },
  {
   "cell_type": "code",
   "execution_count": 592,
   "metadata": {},
   "outputs": [],
   "source": [
    "def runtime_test_Gmm(data, target,Prange=props):\n",
    "    props=Prange\n",
    "    n=props.shape[0]\n",
    "    times_3=zeros((3,n))\n",
    "    \n",
    "    for i,p in enumerate(props):\n",
    "        print(i,p)\n",
    "        X_train, X_test, y_train, y_test = train_test_split( data, target, train_size =p,stratify=target, random_state=0)\n",
    "        r=GMMtest( X_train,y_train)\n",
    "        for k in range(3):\n",
    "            runtime=r.Score[r.Criterion=='RunTime'].values[k]\n",
    "            times_3[k,i]=runtime\n",
    "    linktypes=['spherical', 'diag','full' ]\n",
    "    \n",
    "    for i in range(3):\n",
    "        plt.plot(props,times_3[i],label=linktypes[i])\n",
    "    plt.legend()\n",
    "        \n",
    "    return times_3"
   ]
  },
  {
   "cell_type": "code",
   "execution_count": 135,
   "metadata": {},
   "outputs": [],
   "source": [
    "def runtime_test_Agg(data, target,Prange):\n",
    "    props=Prange\n",
    "    n=props.shape[0]\n",
    "    times_3=zeros((3,n))\n",
    "    \n",
    "    for i,p in enumerate(props):\n",
    "        print(i,p)\n",
    "        X_train, X_test, y_train, y_test = train_test_split( data, target, train_size =p,stratify=target, random_state=0)\n",
    "        r=Aggtest( X_train,y_train)\n",
    "        for k in range(3):\n",
    "            runtime=r.Score[r.Criterion=='RunTime'].values[k]\n",
    "            times_3[k,i]=runtime\n",
    "    linktypes=['ward', 'average','single' ]\n",
    "    \n",
    "    for i in range(3):\n",
    "        plt.plot(props,times_3[i],label=linktypes[i])\n",
    "    plt.legend()\n",
    "        \n",
    "    return times_3\n",
    "        "
   ]
  },
  {
   "cell_type": "code",
   "execution_count": null,
   "metadata": {},
   "outputs": [],
   "source": [
    "def runtime_test_NGMM(data, target,Prange):\n",
    "    props=Prange\n",
    "    n=props.shape[0]\n",
    "    times_3=zeros((3,n))\n",
    "    stage=['Global Approximation','Structure Extraction','Complete Algorithm'] \n",
    "    for i,p in enumerate(props):\n",
    "        print(i,p)\n",
    "        X_train, X_test, y_train, y_test = train_test_split( data, target, train_size =p,stratify=target, random_state=0)\n",
    "        Time_3=NestedGaussianMixtureclustering.RunTimeTest_NGMM_A(X_train,\n",
    "                                                y_train,  \n",
    "                                                targetN=None,\n",
    "                                                random_state=0,\n",
    "                                                covariance_type='diag',\n",
    "                                               )\n",
    "        for k in range(3):\n",
    "            runtime=Time_3[k]\n",
    "            print(stage[k])\n",
    "            print('runtime',runtime)\n",
    "            times_3[k,i]=runtime\n",
    "    \n",
    "    \n",
    "    for i in range(3):\n",
    "        plt.plot(props,times_3[i],label=stage[i])\n",
    "    plt.legend()\n",
    "        \n",
    "    return times_3"
   ]
  },
  {
   "cell_type": "markdown",
   "metadata": {},
   "source": [
    "# Run-time Test (using different proportional samplings of Mnist-784)"
   ]
  },
  {
   "cell_type": "code",
   "execution_count": null,
   "metadata": {},
   "outputs": [],
   "source": [
    "MNIST=fetch_openml('mnist_784',as_frame=True)\n",
    "X25=MNIST.data.values\n",
    "y25=MNIST.target.values"
   ]
  },
  {
   "cell_type": "code",
   "execution_count": 432,
   "metadata": {},
   "outputs": [
    {
     "data": {
      "text/plain": [
       "(70000, 784)"
      ]
     },
     "execution_count": 432,
     "metadata": {},
     "output_type": "execute_result"
    }
   ],
   "source": [
    "X25.shape"
   ]
  },
  {
   "cell_type": "markdown",
   "metadata": {},
   "source": [
    "## run-time test for our methods (two separate stages and the overall run time)"
   ]
  },
  {
   "cell_type": "code",
   "execution_count": 388,
   "metadata": {
    "scrolled": true
   },
   "outputs": [
    {
     "name": "stdout",
     "output_type": "stream",
     "text": [
      "0 0.05\n",
      "best t 92\n",
      "break s<=0\n",
      "Global Approximation\n",
      "runtime 12.905794382095337\n",
      "Structure Extraction\n",
      "runtime 0.11088681221008301\n",
      "Complete Algorithm\n",
      "runtime 13.01668119430542\n",
      "1 0.15000000000000002\n",
      "best t 92\n",
      "break s<=0\n",
      "Global Approximation\n",
      "runtime 56.44529461860657\n",
      "Structure Extraction\n",
      "runtime 0.41457533836364746\n",
      "Complete Algorithm\n",
      "runtime 56.859869956970215\n",
      "2 0.25000000000000006\n",
      "best t 92\n",
      "Global Approximation\n",
      "runtime 109.05053305625916\n",
      "Structure Extraction\n",
      "runtime 0.6513326168060303\n",
      "Complete Algorithm\n",
      "runtime 109.70186567306519\n",
      "3 0.35000000000000003\n",
      "best t 92\n",
      "Global Approximation\n",
      "runtime 200.52604413032532\n",
      "Structure Extraction\n",
      "runtime 0.8311343193054199\n",
      "Complete Algorithm\n",
      "runtime 201.35717844963074\n",
      "4 0.45000000000000007\n"
     ]
    },
    {
     "name": "stderr",
     "output_type": "stream",
     "text": [
      "C:\\ProgramData\\Anaconda3\\lib\\site-packages\\sklearn\\mixture\\_base.py:269: ConvergenceWarning: Initialization 1 did not converge. Try different init parameters, or increase max_iter, tol or check for degenerate data.\n",
      "  % (init + 1), ConvergenceWarning)\n"
     ]
    },
    {
     "name": "stdout",
     "output_type": "stream",
     "text": [
      "best t 92\n",
      "Global Approximation\n",
      "runtime 260.1378448009491\n",
      "Structure Extraction\n",
      "runtime 1.0579066276550293\n",
      "Complete Algorithm\n",
      "runtime 261.1957514286041\n",
      "5 0.5500000000000002\n"
     ]
    },
    {
     "name": "stderr",
     "output_type": "stream",
     "text": [
      "C:\\ProgramData\\Anaconda3\\lib\\site-packages\\sklearn\\mixture\\_base.py:269: ConvergenceWarning: Initialization 1 did not converge. Try different init parameters, or increase max_iter, tol or check for degenerate data.\n",
      "  % (init + 1), ConvergenceWarning)\n"
     ]
    },
    {
     "name": "stdout",
     "output_type": "stream",
     "text": [
      "best t 92\n",
      "Global Approximation\n",
      "runtime 347.29898738861084\n",
      "Structure Extraction\n",
      "runtime 1.2976751327514648\n",
      "Complete Algorithm\n",
      "runtime 348.5966625213623\n",
      "6 0.6500000000000001\n"
     ]
    },
    {
     "name": "stderr",
     "output_type": "stream",
     "text": [
      "C:\\ProgramData\\Anaconda3\\lib\\site-packages\\sklearn\\mixture\\_base.py:269: ConvergenceWarning: Initialization 1 did not converge. Try different init parameters, or increase max_iter, tol or check for degenerate data.\n",
      "  % (init + 1), ConvergenceWarning)\n"
     ]
    },
    {
     "name": "stdout",
     "output_type": "stream",
     "text": [
      "best t 92\n",
      "break s<=0\n",
      "Global Approximation\n",
      "runtime 408.1168234348297\n",
      "Structure Extraction\n",
      "runtime 1.5744051933288574\n",
      "Complete Algorithm\n",
      "runtime 409.69122862815857\n",
      "7 0.7500000000000002\n",
      "best t 92\n",
      "break s<=0\n",
      "Global Approximation\n",
      "runtime 487.16803526878357\n",
      "Structure Extraction\n",
      "runtime 1.9080631732940674\n",
      "Complete Algorithm\n",
      "runtime 489.07609844207764\n"
     ]
    },
    {
     "data": {
      "image/png": "[encoded data removed]",
      "text/plain": [
       "<Figure size 432x288 with 1 Axes>"
      ]
     },
     "metadata": {
      "needs_background": "light"
     },
     "output_type": "display_data"
    }
   ],
   "source": [
    "props=arange(0.05,0.8,0.1)\n",
    "Ngmm_r_075=runtime_test_NGMM(X25, y25,Prange=props)"
   ]
  },
  {
   "cell_type": "markdown",
   "metadata": {},
   "source": [
    "## run-time test for GMM using different types of covariance matrix"
   ]
  },
  {
   "cell_type": "code",
   "execution_count": 133,
   "metadata": {},
   "outputs": [
    {
     "name": "stdout",
     "output_type": "stream",
     "text": [
      "0 0.05\n",
      "1 0.15000000000000002\n",
      "2 0.25000000000000006\n",
      "3 0.35000000000000003\n",
      "4 0.45000000000000007\n",
      "5 0.5500000000000002\n",
      "6 0.6500000000000001\n",
      "7 0.7500000000000002\n"
     ]
    },
    {
     "data": {
      "image/png": "[encoded data removed]",
      "text/plain": [
       "<Figure size 432x288 with 1 Axes>"
      ]
     },
     "metadata": {
      "needs_background": "light"
     },
     "output_type": "display_data"
    }
   ],
   "source": [
    "random.seed(0)\n",
    "props=arange(0.05,0.8,0.1)\n",
    "gmm_r_075_2=runtime_test_Gmm(X25,y25,Prange=props)"
   ]
  },
  {
   "cell_type": "markdown",
   "metadata": {},
   "source": [
    "## run-time test for Hierarchical clustering using different similarity metrics"
   ]
  },
  {
   "cell_type": "code",
   "execution_count": 136,
   "metadata": {},
   "outputs": [
    {
     "name": "stdout",
     "output_type": "stream",
     "text": [
      "0 0.05\n",
      "1 0.15000000000000002\n",
      "2 0.25000000000000006\n",
      "3 0.35000000000000003\n",
      "4 0.45000000000000007\n",
      "5 0.5500000000000002\n",
      "6 0.6500000000000001\n",
      "7 0.7500000000000002\n"
     ]
    },
    {
     "data": {
      "image/png": "[encoded data removed]",
      "text/plain": [
       "<Figure size 432x288 with 1 Axes>"
      ]
     },
     "metadata": {
      "needs_background": "light"
     },
     "output_type": "display_data"
    }
   ],
   "source": [
    "props=arange(0.05,0.8,0.1)\n",
    "runtimes_agg_08=runtime_test_Agg(X25, y25,Prange=props)"
   ]
  },
  {
   "cell_type": "markdown",
   "metadata": {},
   "source": [
    "# comprehensive comparison of run-time"
   ]
  },
  {
   "cell_type": "code",
   "execution_count": 436,
   "metadata": {},
   "outputs": [
    {
     "data": {
      "text/plain": [
       "<matplotlib.legend.Legend at 0x2181d88ba48>"
      ]
     },
     "execution_count": 436,
     "metadata": {},
     "output_type": "execute_result"
    },
    {
     "data": {
      "image/png": "[encoded data removed]",
      "text/plain": [
       "<Figure size 648x648 with 1 Axes>"
      ]
     },
     "metadata": {
      "needs_background": "light"
     },
     "output_type": "display_data"
    }
   ],
   "source": [
    "ThreeAlg=concatenate((runtimes_agg_08,gmm_r_075_2,Ngmm_r_075))\n",
    "plt.figure(figsize=(9,9))\n",
    "alg=['Ward(Hierarchical)', 'Averagelink(Hierarchical)', 'SingleLink(Hierarchical)'\n",
    "     ,'Spherical Covariance Matrix(GMM)', 'Diagonal Covariance Matrix(GMM)','Full Covariance Matrix(GMM)',\n",
    "     'Global Approximation(our)','Structure Extraction(our)','Complete Algorithm(our)' ]\n",
    "linestyles=['-',':','--']\n",
    "for i in range(9):\n",
    "    index=(i)%3\n",
    "    plt.plot(props,TwoAlg[i],label=alg[i],linewidth=linewidth+4,linestyle=linestyles[index])\n",
    "plt.xlabel('Sampling Size',fontsize=22)\n",
    "plt.ylabel('Run-Time',fontsize=22)\n",
    "plt.xticks(fontsize=20)\n",
    "plt.yticks(fontsize=20)\n",
    "plt.legend(fontsize=18)"
   ]
  },
  {
   "cell_type": "markdown",
   "metadata": {},
   "source": [
    "# Experiments about Performance "
   ]
  },
  {
   "cell_type": "code",
   "execution_count": 69,
   "metadata": {},
   "outputs": [],
   "source": [
    "set_printoptions(suppress=True)"
   ]
  },
  {
   "cell_type": "code",
   "execution_count": 601,
   "metadata": {},
   "outputs": [
    {
     "data": {
      "text/plain": [
       "<module 'NestedGaussianMixtureclustering' from 'C:\\\\Users\\\\Administrator\\\\NGMM\\\\NestedGaussianMixtureclustering.py'>"
      ]
     },
     "execution_count": 601,
     "metadata": {},
     "output_type": "execute_result"
    }
   ],
   "source": [
    "import NestedGaussianMixtureclustering\n",
    "import importlib\n",
    "importlib.reload(NestedGaussianMixtureclustering)"
   ]
  },
  {
   "cell_type": "markdown",
   "metadata": {},
   "source": [
    "# Datasets"
   ]
  },
  {
   "cell_type": "code",
   "execution_count": null,
   "metadata": {},
   "outputs": [],
   "source": [
    "ba=fetch_openml('banknote-authentication',as_frame=True)\n",
    "X11=ba.data.values\n",
    "y11=ba.target.values\n",
    "stdBankData=StandardScaler().fit_transform(X11)\n",
    "X11_norm=MinMaxScaler().fit_transform(X11)"
   ]
  },
  {
   "cell_type": "code",
   "execution_count": 440,
   "metadata": {},
   "outputs": [],
   "source": [
    "si=fetch_openml('satellite_image',as_frame=True)\n",
    "X22=si.data.values\n",
    "y22=si.target.values"
   ]
  },
  {
   "cell_type": "code",
   "execution_count": 438,
   "metadata": {},
   "outputs": [],
   "source": [
    "segment=fetch_openml('segment',as_frame=True)#semeion,vehicle,analcatdata_authorship\n",
    "X31=segment.data.values\n",
    "y31=segment.target.values\n",
    "#y31=tools.transferTarget(y31)"
   ]
  },
  {
   "cell_type": "code",
   "execution_count": null,
   "metadata": {},
   "outputs": [],
   "source": [
    "analcatdata=fetch_openml('analcatdata_authorship',as_frame=True)#semeion,vehicle,analcatdata_authorship\n",
    "X32=analcatdata.data.values\n",
    "y32=analcatdata.target.values\n",
    "pd.value_counts(y32)"
   ]
  },
  {
   "cell_type": "markdown",
   "metadata": {},
   "source": [
    "# Experiments for Hierarchical using different link"
   ]
  },
  {
   "cell_type": "markdown",
   "metadata": {},
   "source": [
    "### Singlink method tend to yield bad solutions w.r.t ARI score. \n",
    "### As shown in the following experiments on Banknote, Satellite_image,Segment,Analcatdata_authorship \n"
   ]
  },
  {
   "cell_type": "code",
   "execution_count": 182,
   "metadata": {},
   "outputs": [
    {
     "data": {
      "text/html": [
       "<div>\n",
       "<style scoped>\n",
       "    .dataframe tbody tr th:only-of-type {\n",
       "        vertical-align: middle;\n",
       "    }\n",
       "\n",
       "    .dataframe tbody tr th {\n",
       "        vertical-align: top;\n",
       "    }\n",
       "\n",
       "    .dataframe thead tr th {\n",
       "        text-align: left;\n",
       "    }\n",
       "\n",
       "    .dataframe thead tr:last-of-type th {\n",
       "        text-align: right;\n",
       "    }\n",
       "</style>\n",
       "<table border=\"1\" class=\"dataframe\">\n",
       "  <thead>\n",
       "    <tr>\n",
       "      <th></th>\n",
       "      <th colspan=\"4\" halign=\"left\">Score</th>\n",
       "    </tr>\n",
       "    <tr>\n",
       "      <th>Criterion</th>\n",
       "      <th>AMI</th>\n",
       "      <th>ARI</th>\n",
       "      <th>FMI</th>\n",
       "      <th>RunTime</th>\n",
       "    </tr>\n",
       "    <tr>\n",
       "      <th>Algorithm</th>\n",
       "      <th></th>\n",
       "      <th></th>\n",
       "      <th></th>\n",
       "      <th></th>\n",
       "    </tr>\n",
       "  </thead>\n",
       "  <tbody>\n",
       "    <tr>\n",
       "      <th>average</th>\n",
       "      <td>0.111968</td>\n",
       "      <td>0.100081</td>\n",
       "      <td>0.651494</td>\n",
       "      <td>0.031950</td>\n",
       "    </tr>\n",
       "    <tr>\n",
       "      <th>single</th>\n",
       "      <td>-0.000209</td>\n",
       "      <td>-0.000291</td>\n",
       "      <td>0.710560</td>\n",
       "      <td>0.014985</td>\n",
       "    </tr>\n",
       "    <tr>\n",
       "      <th>ward</th>\n",
       "      <td>0.003003</td>\n",
       "      <td>0.004381</td>\n",
       "      <td>0.504965</td>\n",
       "      <td>0.040957</td>\n",
       "    </tr>\n",
       "  </tbody>\n",
       "</table>\n",
       "</div>"
      ],
      "text/plain": [
       "              Score                              \n",
       "Criterion       AMI       ARI       FMI   RunTime\n",
       "Algorithm                                        \n",
       "average    0.111968  0.100081  0.651494  0.031950\n",
       "single    -0.000209 -0.000291  0.710560  0.014985\n",
       "ward       0.003003  0.004381  0.504965  0.040957"
      ]
     },
     "execution_count": 182,
     "metadata": {},
     "output_type": "execute_result"
    }
   ],
   "source": [
    "r_agg_X11=Aggtest(X11,y11).pivot(index='Algorithm',columns='Criterion')\n",
    "r_agg_X11"
   ]
  },
  {
   "cell_type": "code",
   "execution_count": 441,
   "metadata": {},
   "outputs": [
    {
     "data": {
      "text/html": [
       "<div>\n",
       "<style scoped>\n",
       "    .dataframe tbody tr th:only-of-type {\n",
       "        vertical-align: middle;\n",
       "    }\n",
       "\n",
       "    .dataframe tbody tr th {\n",
       "        vertical-align: top;\n",
       "    }\n",
       "\n",
       "    .dataframe thead tr th {\n",
       "        text-align: left;\n",
       "    }\n",
       "\n",
       "    .dataframe thead tr:last-of-type th {\n",
       "        text-align: right;\n",
       "    }\n",
       "</style>\n",
       "<table border=\"1\" class=\"dataframe\">\n",
       "  <thead>\n",
       "    <tr>\n",
       "      <th></th>\n",
       "      <th colspan=\"4\" halign=\"left\">Score</th>\n",
       "    </tr>\n",
       "    <tr>\n",
       "      <th>Criterion</th>\n",
       "      <th>AMI</th>\n",
       "      <th>ARI</th>\n",
       "      <th>FMI</th>\n",
       "      <th>RunTime</th>\n",
       "    </tr>\n",
       "    <tr>\n",
       "      <th>Algorithm</th>\n",
       "      <th></th>\n",
       "      <th></th>\n",
       "      <th></th>\n",
       "      <th></th>\n",
       "    </tr>\n",
       "  </thead>\n",
       "  <tbody>\n",
       "    <tr>\n",
       "      <th>average</th>\n",
       "      <td>0.425529</td>\n",
       "      <td>0.273357</td>\n",
       "      <td>0.499754</td>\n",
       "      <td>1.515451</td>\n",
       "    </tr>\n",
       "    <tr>\n",
       "      <th>single</th>\n",
       "      <td>0.000596</td>\n",
       "      <td>0.000273</td>\n",
       "      <td>0.435219</td>\n",
       "      <td>0.654205</td>\n",
       "    </tr>\n",
       "    <tr>\n",
       "      <th>ward</th>\n",
       "      <td>0.516842</td>\n",
       "      <td>0.423383</td>\n",
       "      <td>0.543267</td>\n",
       "      <td>1.567398</td>\n",
       "    </tr>\n",
       "  </tbody>\n",
       "</table>\n",
       "</div>"
      ],
      "text/plain": [
       "              Score                              \n",
       "Criterion       AMI       ARI       FMI   RunTime\n",
       "Algorithm                                        \n",
       "average    0.425529  0.273357  0.499754  1.515451\n",
       "single     0.000596  0.000273  0.435219  0.654205\n",
       "ward       0.516842  0.423383  0.543267  1.567398"
      ]
     },
     "execution_count": 441,
     "metadata": {},
     "output_type": "execute_result"
    }
   ],
   "source": [
    "r_agg_X22=Aggtest(X22,y22).pivot(index='Algorithm',columns='Criterion')\n",
    "r_agg_X22"
   ]
  },
  {
   "cell_type": "code",
   "execution_count": 439,
   "metadata": {},
   "outputs": [
    {
     "data": {
      "text/html": [
       "<div>\n",
       "<style scoped>\n",
       "    .dataframe tbody tr th:only-of-type {\n",
       "        vertical-align: middle;\n",
       "    }\n",
       "\n",
       "    .dataframe tbody tr th {\n",
       "        vertical-align: top;\n",
       "    }\n",
       "\n",
       "    .dataframe thead tr th {\n",
       "        text-align: left;\n",
       "    }\n",
       "\n",
       "    .dataframe thead tr:last-of-type th {\n",
       "        text-align: right;\n",
       "    }\n",
       "</style>\n",
       "<table border=\"1\" class=\"dataframe\">\n",
       "  <thead>\n",
       "    <tr>\n",
       "      <th></th>\n",
       "      <th colspan=\"4\" halign=\"left\">Score</th>\n",
       "    </tr>\n",
       "    <tr>\n",
       "      <th>Criterion</th>\n",
       "      <th>AMI</th>\n",
       "      <th>ARI</th>\n",
       "      <th>FMI</th>\n",
       "      <th>RunTime</th>\n",
       "    </tr>\n",
       "    <tr>\n",
       "      <th>Algorithm</th>\n",
       "      <th></th>\n",
       "      <th></th>\n",
       "      <th></th>\n",
       "      <th></th>\n",
       "    </tr>\n",
       "  </thead>\n",
       "  <tbody>\n",
       "    <tr>\n",
       "      <th>average</th>\n",
       "      <td>0.007849</td>\n",
       "      <td>0.000132</td>\n",
       "      <td>0.374193</td>\n",
       "      <td>0.131866</td>\n",
       "    </tr>\n",
       "    <tr>\n",
       "      <th>single</th>\n",
       "      <td>0.001081</td>\n",
       "      <td>0.000023</td>\n",
       "      <td>0.376191</td>\n",
       "      <td>0.060240</td>\n",
       "    </tr>\n",
       "    <tr>\n",
       "      <th>ward</th>\n",
       "      <td>0.487182</td>\n",
       "      <td>0.308135</td>\n",
       "      <td>0.447538</td>\n",
       "      <td>0.156840</td>\n",
       "    </tr>\n",
       "  </tbody>\n",
       "</table>\n",
       "</div>"
      ],
      "text/plain": [
       "              Score                              \n",
       "Criterion       AMI       ARI       FMI   RunTime\n",
       "Algorithm                                        \n",
       "average    0.007849  0.000132  0.374193  0.131866\n",
       "single     0.001081  0.000023  0.376191  0.060240\n",
       "ward       0.487182  0.308135  0.447538  0.156840"
      ]
     },
     "execution_count": 439,
     "metadata": {},
     "output_type": "execute_result"
    }
   ],
   "source": [
    "r_agg_X31=Aggtest(X31,y31).pivot(index='Algorithm',columns='Criterion')\n",
    "r_agg_X31"
   ]
  },
  {
   "cell_type": "code",
   "execution_count": 183,
   "metadata": {},
   "outputs": [
    {
     "data": {
      "text/html": [
       "<div>\n",
       "<style scoped>\n",
       "    .dataframe tbody tr th:only-of-type {\n",
       "        vertical-align: middle;\n",
       "    }\n",
       "\n",
       "    .dataframe tbody tr th {\n",
       "        vertical-align: top;\n",
       "    }\n",
       "\n",
       "    .dataframe thead tr th {\n",
       "        text-align: left;\n",
       "    }\n",
       "\n",
       "    .dataframe thead tr:last-of-type th {\n",
       "        text-align: right;\n",
       "    }\n",
       "</style>\n",
       "<table border=\"1\" class=\"dataframe\">\n",
       "  <thead>\n",
       "    <tr>\n",
       "      <th></th>\n",
       "      <th colspan=\"4\" halign=\"left\">Score</th>\n",
       "    </tr>\n",
       "    <tr>\n",
       "      <th>Criterion</th>\n",
       "      <th>AMI</th>\n",
       "      <th>ARI</th>\n",
       "      <th>FMI</th>\n",
       "      <th>RunTime</th>\n",
       "    </tr>\n",
       "    <tr>\n",
       "      <th>Algorithm</th>\n",
       "      <th></th>\n",
       "      <th></th>\n",
       "      <th></th>\n",
       "      <th></th>\n",
       "    </tr>\n",
       "  </thead>\n",
       "  <tbody>\n",
       "    <tr>\n",
       "      <th>average</th>\n",
       "      <td>0.264759</td>\n",
       "      <td>0.119329</td>\n",
       "      <td>0.535121</td>\n",
       "      <td>0.024975</td>\n",
       "    </tr>\n",
       "    <tr>\n",
       "      <th>single</th>\n",
       "      <td>0.005261</td>\n",
       "      <td>0.000664</td>\n",
       "      <td>0.555417</td>\n",
       "      <td>0.020979</td>\n",
       "    </tr>\n",
       "    <tr>\n",
       "      <th>ward</th>\n",
       "      <td>0.771754</td>\n",
       "      <td>0.766962</td>\n",
       "      <td>0.838959</td>\n",
       "      <td>0.030981</td>\n",
       "    </tr>\n",
       "  </tbody>\n",
       "</table>\n",
       "</div>"
      ],
      "text/plain": [
       "              Score                              \n",
       "Criterion       AMI       ARI       FMI   RunTime\n",
       "Algorithm                                        \n",
       "average    0.264759  0.119329  0.535121  0.024975\n",
       "single     0.005261  0.000664  0.555417  0.020979\n",
       "ward       0.771754  0.766962  0.838959  0.030981"
      ]
     },
     "execution_count": 183,
     "metadata": {},
     "output_type": "execute_result"
    }
   ],
   "source": [
    "r_agg_X32=Aggtest(X32,y32).pivot(index='Algorithm',columns='Criterion')\n",
    "r_agg_X32"
   ]
  },
  {
   "cell_type": "markdown",
   "metadata": {},
   "source": [
    "## Comparison on Banknote"
   ]
  },
  {
   "cell_type": "markdown",
   "metadata": {},
   "source": [
    "### GMM on banknote"
   ]
  },
  {
   "cell_type": "code",
   "execution_count": null,
   "metadata": {},
   "outputs": [],
   "source": []
  },
  {
   "cell_type": "code",
   "execution_count": 596,
   "metadata": {},
   "outputs": [
    {
     "data": {
      "text/html": [
       "<div>\n",
       "<style scoped>\n",
       "    .dataframe tbody tr th:only-of-type {\n",
       "        vertical-align: middle;\n",
       "    }\n",
       "\n",
       "    .dataframe tbody tr th {\n",
       "        vertical-align: top;\n",
       "    }\n",
       "\n",
       "    .dataframe thead tr th {\n",
       "        text-align: left;\n",
       "    }\n",
       "\n",
       "    .dataframe thead tr:last-of-type th {\n",
       "        text-align: right;\n",
       "    }\n",
       "</style>\n",
       "<table border=\"1\" class=\"dataframe\">\n",
       "  <thead>\n",
       "    <tr>\n",
       "      <th></th>\n",
       "      <th colspan=\"4\" halign=\"left\">Score</th>\n",
       "    </tr>\n",
       "    <tr>\n",
       "      <th>Criterion</th>\n",
       "      <th>AMI</th>\n",
       "      <th>ARI</th>\n",
       "      <th>FMI</th>\n",
       "      <th>RunTime</th>\n",
       "    </tr>\n",
       "    <tr>\n",
       "      <th>Algorithm</th>\n",
       "      <th></th>\n",
       "      <th></th>\n",
       "      <th></th>\n",
       "      <th></th>\n",
       "    </tr>\n",
       "  </thead>\n",
       "  <tbody>\n",
       "    <tr>\n",
       "      <th>EM(diag)</th>\n",
       "      <td>0.018376</td>\n",
       "      <td>0.024076</td>\n",
       "      <td>0.514804</td>\n",
       "      <td>0.019980</td>\n",
       "    </tr>\n",
       "    <tr>\n",
       "      <th>EM(full)</th>\n",
       "      <td>0.004912</td>\n",
       "      <td>0.002790</td>\n",
       "      <td>0.513156</td>\n",
       "      <td>0.019979</td>\n",
       "    </tr>\n",
       "    <tr>\n",
       "      <th>EM(spherical)</th>\n",
       "      <td>0.020289</td>\n",
       "      <td>0.035305</td>\n",
       "      <td>0.553778</td>\n",
       "      <td>0.008990</td>\n",
       "    </tr>\n",
       "  </tbody>\n",
       "</table>\n",
       "</div>"
      ],
      "text/plain": [
       "                  Score                              \n",
       "Criterion           AMI       ARI       FMI   RunTime\n",
       "Algorithm                                            \n",
       "EM(diag)       0.018376  0.024076  0.514804  0.019980\n",
       "EM(full)       0.004912  0.002790  0.513156  0.019979\n",
       "EM(spherical)  0.020289  0.035305  0.553778  0.008990"
      ]
     },
     "execution_count": 596,
     "metadata": {},
     "output_type": "execute_result"
    }
   ],
   "source": [
    "GMMtest(X11,y11).pivot(index='Algorithm',columns='Criterion')"
   ]
  },
  {
   "cell_type": "markdown",
   "metadata": {},
   "source": [
    "### Agg on banknote"
   ]
  },
  {
   "cell_type": "code",
   "execution_count": 173,
   "metadata": {},
   "outputs": [
    {
     "data": {
      "text/html": [
       "<div>\n",
       "<style scoped>\n",
       "    .dataframe tbody tr th:only-of-type {\n",
       "        vertical-align: middle;\n",
       "    }\n",
       "\n",
       "    .dataframe tbody tr th {\n",
       "        vertical-align: top;\n",
       "    }\n",
       "\n",
       "    .dataframe thead tr th {\n",
       "        text-align: left;\n",
       "    }\n",
       "\n",
       "    .dataframe thead tr:last-of-type th {\n",
       "        text-align: right;\n",
       "    }\n",
       "</style>\n",
       "<table border=\"1\" class=\"dataframe\">\n",
       "  <thead>\n",
       "    <tr>\n",
       "      <th></th>\n",
       "      <th colspan=\"4\" halign=\"left\">Score</th>\n",
       "    </tr>\n",
       "    <tr>\n",
       "      <th>Criterion</th>\n",
       "      <th>AMI</th>\n",
       "      <th>ARI</th>\n",
       "      <th>FMI</th>\n",
       "      <th>RunTime</th>\n",
       "    </tr>\n",
       "    <tr>\n",
       "      <th>Algorithm</th>\n",
       "      <th></th>\n",
       "      <th></th>\n",
       "      <th></th>\n",
       "      <th></th>\n",
       "    </tr>\n",
       "  </thead>\n",
       "  <tbody>\n",
       "    <tr>\n",
       "      <th>average</th>\n",
       "      <td>0.111968</td>\n",
       "      <td>0.100081</td>\n",
       "      <td>0.651494</td>\n",
       "      <td>0.030968</td>\n",
       "    </tr>\n",
       "    <tr>\n",
       "      <th>single</th>\n",
       "      <td>-0.000209</td>\n",
       "      <td>-0.000291</td>\n",
       "      <td>0.710560</td>\n",
       "      <td>0.014980</td>\n",
       "    </tr>\n",
       "    <tr>\n",
       "      <th>ward</th>\n",
       "      <td>0.003003</td>\n",
       "      <td>0.004381</td>\n",
       "      <td>0.504965</td>\n",
       "      <td>0.037961</td>\n",
       "    </tr>\n",
       "  </tbody>\n",
       "</table>\n",
       "</div>"
      ],
      "text/plain": [
       "              Score                              \n",
       "Criterion       AMI       ARI       FMI   RunTime\n",
       "Algorithm                                        \n",
       "average    0.111968  0.100081  0.651494  0.030968\n",
       "single    -0.000209 -0.000291  0.710560  0.014980\n",
       "ward       0.003003  0.004381  0.504965  0.037961"
      ]
     },
     "execution_count": 173,
     "metadata": {},
     "output_type": "execute_result"
    }
   ],
   "source": [
    "Aggtest(X11,y11).pivot(index='Algorithm',columns='Criterion')"
   ]
  },
  {
   "cell_type": "markdown",
   "metadata": {},
   "source": [
    "### Density peaks clustering on banknote"
   ]
  },
  {
   "cell_type": "code",
   "execution_count": 569,
   "metadata": {
    "scrolled": true
   },
   "outputs": [
    {
     "name": "stderr",
     "output_type": "stream",
     "text": [
      "C:\\ProgramData\\Anaconda3\\lib\\site-packages\\sklearn\\utils\\validation.py:70: FutureWarning: Pass bandwidth=1.4055657478652772 as keyword args. From version 0.25 passing these as positional arguments will result in an error\n",
      "  FutureWarning)\n",
      "C:\\ProgramData\\Anaconda3\\lib\\site-packages\\sklearn\\utils\\validation.py:70: FutureWarning: Pass bandwidth=6.212003089494423 as keyword args. From version 0.25 passing these as positional arguments will result in an error\n",
      "  FutureWarning)\n",
      "C:\\ProgramData\\Anaconda3\\lib\\site-packages\\sklearn\\utils\\validation.py:70: FutureWarning: Pass bandwidth=8.393477431512443 as keyword args. From version 0.25 passing these as positional arguments will result in an error\n",
      "  FutureWarning)\n",
      "C:\\ProgramData\\Anaconda3\\lib\\site-packages\\sklearn\\utils\\validation.py:70: FutureWarning: Pass bandwidth=10.600745195767097 as keyword args. From version 0.25 passing these as positional arguments will result in an error\n",
      "  FutureWarning)\n",
      "C:\\ProgramData\\Anaconda3\\lib\\site-packages\\sklearn\\utils\\validation.py:70: FutureWarning: Pass bandwidth=13.785641575018637 as keyword args. From version 0.25 passing these as positional arguments will result in an error\n",
      "  FutureWarning)\n"
     ]
    },
    {
     "name": "stdout",
     "output_type": "stream",
     "text": [
      "DPC Optimal bandwidth: 1.4055657478652772\n",
      "maxAri:0.223736,maxFmi:0.646723,maxAmi:0.341307\n"
     ]
    },
    {
     "data": {
      "text/html": [
       "<div>\n",
       "<style scoped>\n",
       "    .dataframe tbody tr th:only-of-type {\n",
       "        vertical-align: middle;\n",
       "    }\n",
       "\n",
       "    .dataframe tbody tr th {\n",
       "        vertical-align: top;\n",
       "    }\n",
       "\n",
       "    .dataframe thead th {\n",
       "        text-align: right;\n",
       "    }\n",
       "</style>\n",
       "<table border=\"1\" class=\"dataframe\">\n",
       "  <thead>\n",
       "    <tr style=\"text-align: right;\">\n",
       "      <th></th>\n",
       "      <th>Algorithm</th>\n",
       "      <th>score</th>\n",
       "      <th>Criterion</th>\n",
       "    </tr>\n",
       "  </thead>\n",
       "  <tbody>\n",
       "    <tr>\n",
       "      <th>0</th>\n",
       "      <td>DensityPeaks</td>\n",
       "      <td>0.223736</td>\n",
       "      <td>ARI</td>\n",
       "    </tr>\n",
       "    <tr>\n",
       "      <th>1</th>\n",
       "      <td>DensityPeaks</td>\n",
       "      <td>0.646723</td>\n",
       "      <td>FMI</td>\n",
       "    </tr>\n",
       "    <tr>\n",
       "      <th>2</th>\n",
       "      <td>DensityPeaks</td>\n",
       "      <td>0.341307</td>\n",
       "      <td>AMI</td>\n",
       "    </tr>\n",
       "  </tbody>\n",
       "</table>\n",
       "</div>"
      ],
      "text/plain": [
       "      Algorithm     score Criterion\n",
       "0  DensityPeaks  0.223736       ARI\n",
       "1  DensityPeaks  0.646723       FMI\n",
       "2  DensityPeaks  0.341307       AMI"
      ]
     },
     "execution_count": 569,
     "metadata": {},
     "output_type": "execute_result"
    }
   ],
   "source": [
    "DPCtest(X11,y11)"
   ]
  },
  {
   "cell_type": "markdown",
   "metadata": {},
   "source": [
    "### Our method on banknote"
   ]
  },
  {
   "cell_type": "code",
   "execution_count": 605,
   "metadata": {},
   "outputs": [
    {
     "data": {
      "text/html": [
       "<div>\n",
       "<style scoped>\n",
       "    .dataframe tbody tr th:only-of-type {\n",
       "        vertical-align: middle;\n",
       "    }\n",
       "\n",
       "    .dataframe tbody tr th {\n",
       "        vertical-align: top;\n",
       "    }\n",
       "\n",
       "    .dataframe thead th {\n",
       "        text-align: right;\n",
       "    }\n",
       "</style>\n",
       "<table border=\"1\" class=\"dataframe\">\n",
       "  <thead>\n",
       "    <tr style=\"text-align: right;\">\n",
       "      <th></th>\n",
       "      <th>AMI</th>\n",
       "      <th>ARI</th>\n",
       "      <th>FMI</th>\n",
       "      <th>RunTime</th>\n",
       "    </tr>\n",
       "  </thead>\n",
       "  <tbody>\n",
       "    <tr>\n",
       "      <th>0</th>\n",
       "      <td>0.609486</td>\n",
       "      <td>0.627931</td>\n",
       "      <td>0.818197</td>\n",
       "      <td>0.882319</td>\n",
       "    </tr>\n",
       "  </tbody>\n",
       "</table>\n",
       "</div>"
      ],
      "text/plain": [
       "        AMI       ARI       FMI   RunTime\n",
       "0  0.609486  0.627931  0.818197  0.882319"
      ]
     },
     "execution_count": 605,
     "metadata": {},
     "output_type": "execute_result"
    }
   ],
   "source": [
    "R_NGMM_banknote=NestedGaussianMixtureclustering.NGMM(X11,\n",
    "    y11,\n",
    "    N=50,\n",
    "    targetN=False,\n",
    "    sim_threshold=0.1,\n",
    "    covariance_type='diag',\n",
    "    random_state=0,)\n",
    "R_NGMM_banknote[1]"
   ]
  },
  {
   "cell_type": "markdown",
   "metadata": {},
   "source": [
    "## Comparison on Satelliteimage"
   ]
  },
  {
   "cell_type": "code",
   "execution_count": 484,
   "metadata": {},
   "outputs": [
    {
     "data": {
      "text/html": [
       "<div>\n",
       "<style scoped>\n",
       "    .dataframe tbody tr th:only-of-type {\n",
       "        vertical-align: middle;\n",
       "    }\n",
       "\n",
       "    .dataframe tbody tr th {\n",
       "        vertical-align: top;\n",
       "    }\n",
       "\n",
       "    .dataframe thead tr th {\n",
       "        text-align: left;\n",
       "    }\n",
       "\n",
       "    .dataframe thead tr:last-of-type th {\n",
       "        text-align: right;\n",
       "    }\n",
       "</style>\n",
       "<table border=\"1\" class=\"dataframe\">\n",
       "  <thead>\n",
       "    <tr>\n",
       "      <th></th>\n",
       "      <th colspan=\"4\" halign=\"left\">Score</th>\n",
       "    </tr>\n",
       "    <tr>\n",
       "      <th>Criterion</th>\n",
       "      <th>AMI</th>\n",
       "      <th>ARI</th>\n",
       "      <th>FMI</th>\n",
       "      <th>RunTime</th>\n",
       "    </tr>\n",
       "    <tr>\n",
       "      <th>Algorithm</th>\n",
       "      <th></th>\n",
       "      <th></th>\n",
       "      <th></th>\n",
       "      <th></th>\n",
       "    </tr>\n",
       "  </thead>\n",
       "  <tbody>\n",
       "    <tr>\n",
       "      <th>average</th>\n",
       "      <td>0.425529</td>\n",
       "      <td>0.273357</td>\n",
       "      <td>0.499754</td>\n",
       "      <td>1.491958</td>\n",
       "    </tr>\n",
       "    <tr>\n",
       "      <th>single</th>\n",
       "      <td>0.000596</td>\n",
       "      <td>0.000273</td>\n",
       "      <td>0.435219</td>\n",
       "      <td>0.690093</td>\n",
       "    </tr>\n",
       "    <tr>\n",
       "      <th>ward</th>\n",
       "      <td>0.516842</td>\n",
       "      <td>0.423383</td>\n",
       "      <td>0.543267</td>\n",
       "      <td>1.565488</td>\n",
       "    </tr>\n",
       "  </tbody>\n",
       "</table>\n",
       "</div>"
      ],
      "text/plain": [
       "              Score                              \n",
       "Criterion       AMI       ARI       FMI   RunTime\n",
       "Algorithm                                        \n",
       "average    0.425529  0.273357  0.499754  1.491958\n",
       "single     0.000596  0.000273  0.435219  0.690093\n",
       "ward       0.516842  0.423383  0.543267  1.565488"
      ]
     },
     "execution_count": 484,
     "metadata": {},
     "output_type": "execute_result"
    }
   ],
   "source": [
    "r_agg_satellite=Aggtest(X22,y22).pivot(index='Algorithm',columns='Criterion')\n",
    "r_agg_satellite"
   ]
  },
  {
   "cell_type": "code",
   "execution_count": 597,
   "metadata": {},
   "outputs": [
    {
     "data": {
      "text/html": [
       "<div>\n",
       "<style scoped>\n",
       "    .dataframe tbody tr th:only-of-type {\n",
       "        vertical-align: middle;\n",
       "    }\n",
       "\n",
       "    .dataframe tbody tr th {\n",
       "        vertical-align: top;\n",
       "    }\n",
       "\n",
       "    .dataframe thead tr th {\n",
       "        text-align: left;\n",
       "    }\n",
       "\n",
       "    .dataframe thead tr:last-of-type th {\n",
       "        text-align: right;\n",
       "    }\n",
       "</style>\n",
       "<table border=\"1\" class=\"dataframe\">\n",
       "  <thead>\n",
       "    <tr>\n",
       "      <th></th>\n",
       "      <th colspan=\"4\" halign=\"left\">Score</th>\n",
       "    </tr>\n",
       "    <tr>\n",
       "      <th>Criterion</th>\n",
       "      <th>AMI</th>\n",
       "      <th>ARI</th>\n",
       "      <th>FMI</th>\n",
       "      <th>RunTime</th>\n",
       "    </tr>\n",
       "    <tr>\n",
       "      <th>Algorithm</th>\n",
       "      <th></th>\n",
       "      <th></th>\n",
       "      <th></th>\n",
       "      <th></th>\n",
       "    </tr>\n",
       "  </thead>\n",
       "  <tbody>\n",
       "    <tr>\n",
       "      <th>EM(diag)</th>\n",
       "      <td>0.599716</td>\n",
       "      <td>0.501046</td>\n",
       "      <td>0.593653</td>\n",
       "      <td>0.115881</td>\n",
       "    </tr>\n",
       "    <tr>\n",
       "      <th>EM(full)</th>\n",
       "      <td>0.553319</td>\n",
       "      <td>0.464535</td>\n",
       "      <td>0.583865</td>\n",
       "      <td>0.946033</td>\n",
       "    </tr>\n",
       "    <tr>\n",
       "      <th>EM(spherical)</th>\n",
       "      <td>0.585540</td>\n",
       "      <td>0.491405</td>\n",
       "      <td>0.586718</td>\n",
       "      <td>0.101882</td>\n",
       "    </tr>\n",
       "  </tbody>\n",
       "</table>\n",
       "</div>"
      ],
      "text/plain": [
       "                  Score                              \n",
       "Criterion           AMI       ARI       FMI   RunTime\n",
       "Algorithm                                            \n",
       "EM(diag)       0.599716  0.501046  0.593653  0.115881\n",
       "EM(full)       0.553319  0.464535  0.583865  0.946033\n",
       "EM(spherical)  0.585540  0.491405  0.586718  0.101882"
      ]
     },
     "execution_count": 597,
     "metadata": {},
     "output_type": "execute_result"
    }
   ],
   "source": [
    "r_gmm_satellite=GMMtest(X22,y22,).pivot(index='Algorithm',columns='Criterion')\n",
    "r_gmm_satellite"
   ]
  },
  {
   "cell_type": "code",
   "execution_count": 570,
   "metadata": {},
   "outputs": [
    {
     "name": "stderr",
     "output_type": "stream",
     "text": [
      "C:\\ProgramData\\Anaconda3\\lib\\site-packages\\sklearn\\utils\\validation.py:70: FutureWarning: Pass bandwidth=36.4358200613815 as keyword args. From version 0.25 passing these as positional arguments will result in an error\n",
      "  FutureWarning)\n",
      "C:\\ProgramData\\Anaconda3\\lib\\site-packages\\sklearn\\utils\\validation.py:70: FutureWarning: Pass bandwidth=87.28258827579263 as keyword args. From version 0.25 passing these as positional arguments will result in an error\n",
      "  FutureWarning)\n",
      "C:\\ProgramData\\Anaconda3\\lib\\site-packages\\sklearn\\utils\\validation.py:70: FutureWarning: Pass bandwidth=115.2807691964505 as keyword args. From version 0.25 passing these as positional arguments will result in an error\n",
      "  FutureWarning)\n",
      "C:\\ProgramData\\Anaconda3\\lib\\site-packages\\sklearn\\utils\\validation.py:70: FutureWarning: Pass bandwidth=150.83036685021935 as keyword args. From version 0.25 passing these as positional arguments will result in an error\n",
      "  FutureWarning)\n",
      "C:\\ProgramData\\Anaconda3\\lib\\site-packages\\sklearn\\utils\\validation.py:70: FutureWarning: Pass bandwidth=186.3059766683861 as keyword args. From version 0.25 passing these as positional arguments will result in an error\n",
      "  FutureWarning)\n"
     ]
    },
    {
     "name": "stdout",
     "output_type": "stream",
     "text": [
      "DPC Optimal bandwidth: 36.4358200613815\n",
      "maxAri:0.397453,maxFmi:0.566049,maxAmi:0.539533\n"
     ]
    },
    {
     "data": {
      "text/html": [
       "<div>\n",
       "<style scoped>\n",
       "    .dataframe tbody tr th:only-of-type {\n",
       "        vertical-align: middle;\n",
       "    }\n",
       "\n",
       "    .dataframe tbody tr th {\n",
       "        vertical-align: top;\n",
       "    }\n",
       "\n",
       "    .dataframe thead th {\n",
       "        text-align: right;\n",
       "    }\n",
       "</style>\n",
       "<table border=\"1\" class=\"dataframe\">\n",
       "  <thead>\n",
       "    <tr style=\"text-align: right;\">\n",
       "      <th></th>\n",
       "      <th>Algorithm</th>\n",
       "      <th>score</th>\n",
       "      <th>Criterion</th>\n",
       "    </tr>\n",
       "  </thead>\n",
       "  <tbody>\n",
       "    <tr>\n",
       "      <th>0</th>\n",
       "      <td>DensityPeaks</td>\n",
       "      <td>0.397453</td>\n",
       "      <td>ARI</td>\n",
       "    </tr>\n",
       "    <tr>\n",
       "      <th>1</th>\n",
       "      <td>DensityPeaks</td>\n",
       "      <td>0.566049</td>\n",
       "      <td>FMI</td>\n",
       "    </tr>\n",
       "    <tr>\n",
       "      <th>2</th>\n",
       "      <td>DensityPeaks</td>\n",
       "      <td>0.539533</td>\n",
       "      <td>AMI</td>\n",
       "    </tr>\n",
       "  </tbody>\n",
       "</table>\n",
       "</div>"
      ],
      "text/plain": [
       "      Algorithm     score Criterion\n",
       "0  DensityPeaks  0.397453       ARI\n",
       "1  DensityPeaks  0.566049       FMI\n",
       "2  DensityPeaks  0.539533       AMI"
      ]
     },
     "execution_count": 570,
     "metadata": {},
     "output_type": "execute_result"
    }
   ],
   "source": [
    "DPCtest(X22,y22)"
   ]
  },
  {
   "cell_type": "code",
   "execution_count": 602,
   "metadata": {},
   "outputs": [
    {
     "data": {
      "text/html": [
       "<div>\n",
       "<style scoped>\n",
       "    .dataframe tbody tr th:only-of-type {\n",
       "        vertical-align: middle;\n",
       "    }\n",
       "\n",
       "    .dataframe tbody tr th {\n",
       "        vertical-align: top;\n",
       "    }\n",
       "\n",
       "    .dataframe thead th {\n",
       "        text-align: right;\n",
       "    }\n",
       "</style>\n",
       "<table border=\"1\" class=\"dataframe\">\n",
       "  <thead>\n",
       "    <tr style=\"text-align: right;\">\n",
       "      <th></th>\n",
       "      <th>AMI</th>\n",
       "      <th>ARI</th>\n",
       "      <th>FMI</th>\n",
       "      <th>RunTime</th>\n",
       "    </tr>\n",
       "  </thead>\n",
       "  <tbody>\n",
       "    <tr>\n",
       "      <th>0</th>\n",
       "      <td>0.778688</td>\n",
       "      <td>0.782497</td>\n",
       "      <td>0.836886</td>\n",
       "      <td>3.315276</td>\n",
       "    </tr>\n",
       "  </tbody>\n",
       "</table>\n",
       "</div>"
      ],
      "text/plain": [
       "        AMI       ARI       FMI   RunTime\n",
       "0  0.778688  0.782497  0.836886  3.315276"
      ]
     },
     "execution_count": 602,
     "metadata": {},
     "output_type": "execute_result"
    }
   ],
   "source": [
    "R_NGMM_satellite=NestedGaussianMixtureclustering.NGMM(X22,y22,\n",
    "    N=140,\n",
    "    targetN=False,\n",
    "    sim_threshold=1,\n",
    "    covariance_type='diag',\n",
    "    n_init=1,\n",
    "    random_state=0,)\n",
    "R_NGMM_satellite[1]"
   ]
  },
  {
   "cell_type": "markdown",
   "metadata": {},
   "source": [
    "## Comparison on Segment"
   ]
  },
  {
   "cell_type": "code",
   "execution_count": 561,
   "metadata": {},
   "outputs": [
    {
     "data": {
      "text/html": [
       "<div>\n",
       "<style scoped>\n",
       "    .dataframe tbody tr th:only-of-type {\n",
       "        vertical-align: middle;\n",
       "    }\n",
       "\n",
       "    .dataframe tbody tr th {\n",
       "        vertical-align: top;\n",
       "    }\n",
       "\n",
       "    .dataframe thead tr th {\n",
       "        text-align: left;\n",
       "    }\n",
       "\n",
       "    .dataframe thead tr:last-of-type th {\n",
       "        text-align: right;\n",
       "    }\n",
       "</style>\n",
       "<table border=\"1\" class=\"dataframe\">\n",
       "  <thead>\n",
       "    <tr>\n",
       "      <th></th>\n",
       "      <th colspan=\"4\" halign=\"left\">Score</th>\n",
       "    </tr>\n",
       "    <tr>\n",
       "      <th>Criterion</th>\n",
       "      <th>AMI</th>\n",
       "      <th>ARI</th>\n",
       "      <th>FMI</th>\n",
       "      <th>RunTime</th>\n",
       "    </tr>\n",
       "    <tr>\n",
       "      <th>Algorithm</th>\n",
       "      <th></th>\n",
       "      <th></th>\n",
       "      <th></th>\n",
       "      <th></th>\n",
       "    </tr>\n",
       "  </thead>\n",
       "  <tbody>\n",
       "    <tr>\n",
       "      <th>average</th>\n",
       "      <td>0.007849</td>\n",
       "      <td>0.000132</td>\n",
       "      <td>0.374193</td>\n",
       "      <td>0.138845</td>\n",
       "    </tr>\n",
       "    <tr>\n",
       "      <th>single</th>\n",
       "      <td>0.001081</td>\n",
       "      <td>0.000023</td>\n",
       "      <td>0.376191</td>\n",
       "      <td>0.064931</td>\n",
       "    </tr>\n",
       "    <tr>\n",
       "      <th>ward</th>\n",
       "      <td>0.487182</td>\n",
       "      <td>0.308135</td>\n",
       "      <td>0.447538</td>\n",
       "      <td>0.150846</td>\n",
       "    </tr>\n",
       "  </tbody>\n",
       "</table>\n",
       "</div>"
      ],
      "text/plain": [
       "              Score                              \n",
       "Criterion       AMI       ARI       FMI   RunTime\n",
       "Algorithm                                        \n",
       "average    0.007849  0.000132  0.374193  0.138845\n",
       "single     0.001081  0.000023  0.376191  0.064931\n",
       "ward       0.487182  0.308135  0.447538  0.150846"
      ]
     },
     "execution_count": 561,
     "metadata": {},
     "output_type": "execute_result"
    }
   ],
   "source": [
    "r_agg_segment=Aggtest(X31,y31).pivot(index='Algorithm',columns='Criterion')\n",
    "r_agg_segment"
   ]
  },
  {
   "cell_type": "code",
   "execution_count": 598,
   "metadata": {},
   "outputs": [
    {
     "data": {
      "text/html": [
       "<div>\n",
       "<style scoped>\n",
       "    .dataframe tbody tr th:only-of-type {\n",
       "        vertical-align: middle;\n",
       "    }\n",
       "\n",
       "    .dataframe tbody tr th {\n",
       "        vertical-align: top;\n",
       "    }\n",
       "\n",
       "    .dataframe thead tr th {\n",
       "        text-align: left;\n",
       "    }\n",
       "\n",
       "    .dataframe thead tr:last-of-type th {\n",
       "        text-align: right;\n",
       "    }\n",
       "</style>\n",
       "<table border=\"1\" class=\"dataframe\">\n",
       "  <thead>\n",
       "    <tr>\n",
       "      <th></th>\n",
       "      <th colspan=\"4\" halign=\"left\">Score</th>\n",
       "    </tr>\n",
       "    <tr>\n",
       "      <th>Criterion</th>\n",
       "      <th>AMI</th>\n",
       "      <th>ARI</th>\n",
       "      <th>FMI</th>\n",
       "      <th>RunTime</th>\n",
       "    </tr>\n",
       "    <tr>\n",
       "      <th>Algorithm</th>\n",
       "      <th></th>\n",
       "      <th></th>\n",
       "      <th></th>\n",
       "      <th></th>\n",
       "    </tr>\n",
       "  </thead>\n",
       "  <tbody>\n",
       "    <tr>\n",
       "      <th>EM(diag)</th>\n",
       "      <td>0.538378</td>\n",
       "      <td>0.399515</td>\n",
       "      <td>0.499838</td>\n",
       "      <td>0.064934</td>\n",
       "    </tr>\n",
       "    <tr>\n",
       "      <th>EM(full)</th>\n",
       "      <td>0.599489</td>\n",
       "      <td>0.443775</td>\n",
       "      <td>0.543541</td>\n",
       "      <td>0.171825</td>\n",
       "    </tr>\n",
       "    <tr>\n",
       "      <th>EM(spherical)</th>\n",
       "      <td>0.479369</td>\n",
       "      <td>0.326445</td>\n",
       "      <td>0.441243</td>\n",
       "      <td>0.028969</td>\n",
       "    </tr>\n",
       "  </tbody>\n",
       "</table>\n",
       "</div>"
      ],
      "text/plain": [
       "                  Score                              \n",
       "Criterion           AMI       ARI       FMI   RunTime\n",
       "Algorithm                                            \n",
       "EM(diag)       0.538378  0.399515  0.499838  0.064934\n",
       "EM(full)       0.599489  0.443775  0.543541  0.171825\n",
       "EM(spherical)  0.479369  0.326445  0.441243  0.028969"
      ]
     },
     "execution_count": 598,
     "metadata": {},
     "output_type": "execute_result"
    }
   ],
   "source": [
    "r_gmm_segment=GMMtest(X31,y31).pivot(index='Algorithm',columns='Criterion')\n",
    "r_gmm_segment"
   ]
  },
  {
   "cell_type": "code",
   "execution_count": 571,
   "metadata": {},
   "outputs": [
    {
     "name": "stderr",
     "output_type": "stream",
     "text": [
      "C:\\ProgramData\\Anaconda3\\lib\\site-packages\\sklearn\\utils\\validation.py:70: FutureWarning: Pass bandwidth=35.691091948769156 as keyword args. From version 0.25 passing these as positional arguments will result in an error\n",
      "  FutureWarning)\n",
      "C:\\ProgramData\\Anaconda3\\lib\\site-packages\\sklearn\\utils\\validation.py:70: FutureWarning: Pass bandwidth=118.38105566623977 as keyword args. From version 0.25 passing these as positional arguments will result in an error\n",
      "  FutureWarning)\n",
      "C:\\ProgramData\\Anaconda3\\lib\\site-packages\\sklearn\\utils\\validation.py:70: FutureWarning: Pass bandwidth=154.94131511710444 as keyword args. From version 0.25 passing these as positional arguments will result in an error\n",
      "  FutureWarning)\n",
      "C:\\ProgramData\\Anaconda3\\lib\\site-packages\\sklearn\\utils\\validation.py:70: FutureWarning: Pass bandwidth=188.74085761922976 as keyword args. From version 0.25 passing these as positional arguments will result in an error\n",
      "  FutureWarning)\n",
      "C:\\ProgramData\\Anaconda3\\lib\\site-packages\\sklearn\\utils\\validation.py:70: FutureWarning: Pass bandwidth=226.63878847446276 as keyword args. From version 0.25 passing these as positional arguments will result in an error\n",
      "  FutureWarning)\n"
     ]
    },
    {
     "name": "stdout",
     "output_type": "stream",
     "text": [
      "DPC Optimal bandwidth: 35.691091948769156\n",
      "maxAri:0.238077,maxFmi:0.503996,maxAmi:0.558404\n"
     ]
    },
    {
     "data": {
      "text/html": [
       "<div>\n",
       "<style scoped>\n",
       "    .dataframe tbody tr th:only-of-type {\n",
       "        vertical-align: middle;\n",
       "    }\n",
       "\n",
       "    .dataframe tbody tr th {\n",
       "        vertical-align: top;\n",
       "    }\n",
       "\n",
       "    .dataframe thead th {\n",
       "        text-align: right;\n",
       "    }\n",
       "</style>\n",
       "<table border=\"1\" class=\"dataframe\">\n",
       "  <thead>\n",
       "    <tr style=\"text-align: right;\">\n",
       "      <th></th>\n",
       "      <th>Algorithm</th>\n",
       "      <th>score</th>\n",
       "      <th>Criterion</th>\n",
       "    </tr>\n",
       "  </thead>\n",
       "  <tbody>\n",
       "    <tr>\n",
       "      <th>0</th>\n",
       "      <td>DensityPeaks</td>\n",
       "      <td>0.238077</td>\n",
       "      <td>ARI</td>\n",
       "    </tr>\n",
       "    <tr>\n",
       "      <th>1</th>\n",
       "      <td>DensityPeaks</td>\n",
       "      <td>0.503996</td>\n",
       "      <td>FMI</td>\n",
       "    </tr>\n",
       "    <tr>\n",
       "      <th>2</th>\n",
       "      <td>DensityPeaks</td>\n",
       "      <td>0.558404</td>\n",
       "      <td>AMI</td>\n",
       "    </tr>\n",
       "  </tbody>\n",
       "</table>\n",
       "</div>"
      ],
      "text/plain": [
       "      Algorithm     score Criterion\n",
       "0  DensityPeaks  0.238077       ARI\n",
       "1  DensityPeaks  0.503996       FMI\n",
       "2  DensityPeaks  0.558404       AMI"
      ]
     },
     "execution_count": 571,
     "metadata": {},
     "output_type": "execute_result"
    }
   ],
   "source": [
    "DPCtest(X31,y31)"
   ]
  },
  {
   "cell_type": "code",
   "execution_count": 603,
   "metadata": {},
   "outputs": [
    {
     "data": {
      "text/html": [
       "<div>\n",
       "<style scoped>\n",
       "    .dataframe tbody tr th:only-of-type {\n",
       "        vertical-align: middle;\n",
       "    }\n",
       "\n",
       "    .dataframe tbody tr th {\n",
       "        vertical-align: top;\n",
       "    }\n",
       "\n",
       "    .dataframe thead th {\n",
       "        text-align: right;\n",
       "    }\n",
       "</style>\n",
       "<table border=\"1\" class=\"dataframe\">\n",
       "  <thead>\n",
       "    <tr style=\"text-align: right;\">\n",
       "      <th></th>\n",
       "      <th>AMI</th>\n",
       "      <th>ARI</th>\n",
       "      <th>FMI</th>\n",
       "      <th>RunTime</th>\n",
       "    </tr>\n",
       "  </thead>\n",
       "  <tbody>\n",
       "    <tr>\n",
       "      <th>0</th>\n",
       "      <td>0.742047</td>\n",
       "      <td>0.611497</td>\n",
       "      <td>0.681623</td>\n",
       "      <td>1.183794</td>\n",
       "    </tr>\n",
       "  </tbody>\n",
       "</table>\n",
       "</div>"
      ],
      "text/plain": [
       "        AMI       ARI       FMI   RunTime\n",
       "0  0.742047  0.611497  0.681623  1.183794"
      ]
     },
     "execution_count": 603,
     "metadata": {},
     "output_type": "execute_result"
    }
   ],
   "source": [
    "R_NGMM_segment=NestedGaussianMixtureclustering.NGMM(X31,y31,\n",
    "    N=100,\n",
    "    targetN=False,\n",
    "    sim_threshold=0.1,\n",
    "    covariance_type='diag',\n",
    "    n_init=1,\n",
    "    random_state=0,)\n",
    "R_NGMM_segment[1]"
   ]
  },
  {
   "cell_type": "markdown",
   "metadata": {},
   "source": [
    "## Comparison on Analcatdata_authorship"
   ]
  },
  {
   "cell_type": "code",
   "execution_count": 563,
   "metadata": {},
   "outputs": [
    {
     "data": {
      "text/html": [
       "<div>\n",
       "<style scoped>\n",
       "    .dataframe tbody tr th:only-of-type {\n",
       "        vertical-align: middle;\n",
       "    }\n",
       "\n",
       "    .dataframe tbody tr th {\n",
       "        vertical-align: top;\n",
       "    }\n",
       "\n",
       "    .dataframe thead tr th {\n",
       "        text-align: left;\n",
       "    }\n",
       "\n",
       "    .dataframe thead tr:last-of-type th {\n",
       "        text-align: right;\n",
       "    }\n",
       "</style>\n",
       "<table border=\"1\" class=\"dataframe\">\n",
       "  <thead>\n",
       "    <tr>\n",
       "      <th></th>\n",
       "      <th colspan=\"4\" halign=\"left\">Score</th>\n",
       "    </tr>\n",
       "    <tr>\n",
       "      <th>Criterion</th>\n",
       "      <th>AMI</th>\n",
       "      <th>ARI</th>\n",
       "      <th>FMI</th>\n",
       "      <th>RunTime</th>\n",
       "    </tr>\n",
       "    <tr>\n",
       "      <th>Algorithm</th>\n",
       "      <th></th>\n",
       "      <th></th>\n",
       "      <th></th>\n",
       "      <th></th>\n",
       "    </tr>\n",
       "  </thead>\n",
       "  <tbody>\n",
       "    <tr>\n",
       "      <th>average</th>\n",
       "      <td>0.264759</td>\n",
       "      <td>0.119329</td>\n",
       "      <td>0.535121</td>\n",
       "      <td>0.025974</td>\n",
       "    </tr>\n",
       "    <tr>\n",
       "      <th>single</th>\n",
       "      <td>0.005261</td>\n",
       "      <td>0.000664</td>\n",
       "      <td>0.555417</td>\n",
       "      <td>0.020979</td>\n",
       "    </tr>\n",
       "    <tr>\n",
       "      <th>ward</th>\n",
       "      <td>0.771754</td>\n",
       "      <td>0.766962</td>\n",
       "      <td>0.838959</td>\n",
       "      <td>0.029969</td>\n",
       "    </tr>\n",
       "  </tbody>\n",
       "</table>\n",
       "</div>"
      ],
      "text/plain": [
       "              Score                              \n",
       "Criterion       AMI       ARI       FMI   RunTime\n",
       "Algorithm                                        \n",
       "average    0.264759  0.119329  0.535121  0.025974\n",
       "single     0.005261  0.000664  0.555417  0.020979\n",
       "ward       0.771754  0.766962  0.838959  0.029969"
      ]
     },
     "execution_count": 563,
     "metadata": {},
     "output_type": "execute_result"
    }
   ],
   "source": [
    "r_agg_authorship=Aggtest(X32,y32).pivot(index='Algorithm',columns='Criterion')\n",
    "r_agg_authorship"
   ]
  },
  {
   "cell_type": "code",
   "execution_count": 599,
   "metadata": {},
   "outputs": [
    {
     "data": {
      "text/html": [
       "<div>\n",
       "<style scoped>\n",
       "    .dataframe tbody tr th:only-of-type {\n",
       "        vertical-align: middle;\n",
       "    }\n",
       "\n",
       "    .dataframe tbody tr th {\n",
       "        vertical-align: top;\n",
       "    }\n",
       "\n",
       "    .dataframe thead tr th {\n",
       "        text-align: left;\n",
       "    }\n",
       "\n",
       "    .dataframe thead tr:last-of-type th {\n",
       "        text-align: right;\n",
       "    }\n",
       "</style>\n",
       "<table border=\"1\" class=\"dataframe\">\n",
       "  <thead>\n",
       "    <tr>\n",
       "      <th></th>\n",
       "      <th colspan=\"4\" halign=\"left\">Score</th>\n",
       "    </tr>\n",
       "    <tr>\n",
       "      <th>Criterion</th>\n",
       "      <th>AMI</th>\n",
       "      <th>ARI</th>\n",
       "      <th>FMI</th>\n",
       "      <th>RunTime</th>\n",
       "    </tr>\n",
       "    <tr>\n",
       "      <th>Algorithm</th>\n",
       "      <th></th>\n",
       "      <th></th>\n",
       "      <th></th>\n",
       "      <th></th>\n",
       "    </tr>\n",
       "  </thead>\n",
       "  <tbody>\n",
       "    <tr>\n",
       "      <th>EM(diag)</th>\n",
       "      <td>0.788730</td>\n",
       "      <td>0.750574</td>\n",
       "      <td>0.825377</td>\n",
       "      <td>0.018979</td>\n",
       "    </tr>\n",
       "    <tr>\n",
       "      <th>EM(full)</th>\n",
       "      <td>0.747685</td>\n",
       "      <td>0.726401</td>\n",
       "      <td>0.807854</td>\n",
       "      <td>0.054944</td>\n",
       "    </tr>\n",
       "    <tr>\n",
       "      <th>EM(spherical)</th>\n",
       "      <td>0.704146</td>\n",
       "      <td>0.684830</td>\n",
       "      <td>0.777844</td>\n",
       "      <td>0.013975</td>\n",
       "    </tr>\n",
       "  </tbody>\n",
       "</table>\n",
       "</div>"
      ],
      "text/plain": [
       "                  Score                              \n",
       "Criterion           AMI       ARI       FMI   RunTime\n",
       "Algorithm                                            \n",
       "EM(diag)       0.788730  0.750574  0.825377  0.018979\n",
       "EM(full)       0.747685  0.726401  0.807854  0.054944\n",
       "EM(spherical)  0.704146  0.684830  0.777844  0.013975"
      ]
     },
     "execution_count": 599,
     "metadata": {},
     "output_type": "execute_result"
    }
   ],
   "source": [
    "r_gmm_authorship=GMMtest(X32,y32).pivot(index='Algorithm',columns='Criterion')\n",
    "r_gmm_authorship"
   ]
  },
  {
   "cell_type": "code",
   "execution_count": 572,
   "metadata": {
    "scrolled": true
   },
   "outputs": [
    {
     "name": "stderr",
     "output_type": "stream",
     "text": [
      "C:\\ProgramData\\Anaconda3\\lib\\site-packages\\sklearn\\utils\\validation.py:70: FutureWarning: Pass bandwidth=42.48079859410245 as keyword args. From version 0.25 passing these as positional arguments will result in an error\n",
      "  FutureWarning)\n",
      "C:\\ProgramData\\Anaconda3\\lib\\site-packages\\sklearn\\utils\\validation.py:70: FutureWarning: Pass bandwidth=63.99937954429763 as keyword args. From version 0.25 passing these as positional arguments will result in an error\n",
      "  FutureWarning)\n",
      "C:\\ProgramData\\Anaconda3\\lib\\site-packages\\sklearn\\utils\\validation.py:70: FutureWarning: Pass bandwidth=75.50018560999062 as keyword args. From version 0.25 passing these as positional arguments will result in an error\n",
      "  FutureWarning)\n",
      "C:\\ProgramData\\Anaconda3\\lib\\site-packages\\sklearn\\utils\\validation.py:70: FutureWarning: Pass bandwidth=84.88967381404585 as keyword args. From version 0.25 passing these as positional arguments will result in an error\n",
      "  FutureWarning)\n",
      "C:\\ProgramData\\Anaconda3\\lib\\site-packages\\sklearn\\utils\\validation.py:70: FutureWarning: Pass bandwidth=96.78401285550785 as keyword args. From version 0.25 passing these as positional arguments will result in an error\n",
      "  FutureWarning)\n"
     ]
    },
    {
     "name": "stdout",
     "output_type": "stream",
     "text": [
      "DPC Optimal bandwidth: 96.78401285550785\n",
      "maxAri:0.502791,maxFmi:0.726823,maxAmi:0.597852\n"
     ]
    },
    {
     "data": {
      "text/html": [
       "<div>\n",
       "<style scoped>\n",
       "    .dataframe tbody tr th:only-of-type {\n",
       "        vertical-align: middle;\n",
       "    }\n",
       "\n",
       "    .dataframe tbody tr th {\n",
       "        vertical-align: top;\n",
       "    }\n",
       "\n",
       "    .dataframe thead th {\n",
       "        text-align: right;\n",
       "    }\n",
       "</style>\n",
       "<table border=\"1\" class=\"dataframe\">\n",
       "  <thead>\n",
       "    <tr style=\"text-align: right;\">\n",
       "      <th></th>\n",
       "      <th>Algorithm</th>\n",
       "      <th>score</th>\n",
       "      <th>Criterion</th>\n",
       "    </tr>\n",
       "  </thead>\n",
       "  <tbody>\n",
       "    <tr>\n",
       "      <th>0</th>\n",
       "      <td>DensityPeaks</td>\n",
       "      <td>0.502791</td>\n",
       "      <td>ARI</td>\n",
       "    </tr>\n",
       "    <tr>\n",
       "      <th>1</th>\n",
       "      <td>DensityPeaks</td>\n",
       "      <td>0.726823</td>\n",
       "      <td>FMI</td>\n",
       "    </tr>\n",
       "    <tr>\n",
       "      <th>2</th>\n",
       "      <td>DensityPeaks</td>\n",
       "      <td>0.597852</td>\n",
       "      <td>AMI</td>\n",
       "    </tr>\n",
       "  </tbody>\n",
       "</table>\n",
       "</div>"
      ],
      "text/plain": [
       "      Algorithm     score Criterion\n",
       "0  DensityPeaks  0.502791       ARI\n",
       "1  DensityPeaks  0.726823       FMI\n",
       "2  DensityPeaks  0.597852       AMI"
      ]
     },
     "execution_count": 572,
     "metadata": {},
     "output_type": "execute_result"
    }
   ],
   "source": [
    "DPCtest(X32,y32)"
   ]
  },
  {
   "cell_type": "code",
   "execution_count": 607,
   "metadata": {},
   "outputs": [],
   "source": [
    "R_NGMM_authorship=NestedGaussianMixtureclustering.NGMM(X32,\n",
    "    y32,\n",
    "    N=50,\n",
    "    targetN=False,\n",
    "    sim_threshold=0.0001,\n",
    "    covariance_type='diag',\n",
    "    n_init=2,\n",
    "    random_state=0,)"
   ]
  },
  {
   "cell_type": "code",
   "execution_count": 606,
   "metadata": {},
   "outputs": [
    {
     "data": {
      "text/html": [
       "<div>\n",
       "<style scoped>\n",
       "    .dataframe tbody tr th:only-of-type {\n",
       "        vertical-align: middle;\n",
       "    }\n",
       "\n",
       "    .dataframe tbody tr th {\n",
       "        vertical-align: top;\n",
       "    }\n",
       "\n",
       "    .dataframe thead th {\n",
       "        text-align: right;\n",
       "    }\n",
       "</style>\n",
       "<table border=\"1\" class=\"dataframe\">\n",
       "  <thead>\n",
       "    <tr style=\"text-align: right;\">\n",
       "      <th></th>\n",
       "      <th>AMI</th>\n",
       "      <th>ARI</th>\n",
       "      <th>FMI</th>\n",
       "      <th>RunTime</th>\n",
       "    </tr>\n",
       "  </thead>\n",
       "  <tbody>\n",
       "    <tr>\n",
       "      <th>0</th>\n",
       "      <td>0.975269</td>\n",
       "      <td>0.988657</td>\n",
       "      <td>0.992179</td>\n",
       "      <td>0.292687</td>\n",
       "    </tr>\n",
       "  </tbody>\n",
       "</table>\n",
       "</div>"
      ],
      "text/plain": [
       "        AMI       ARI       FMI   RunTime\n",
       "0  0.975269  0.988657  0.992179  0.292687"
      ]
     },
     "execution_count": 606,
     "metadata": {},
     "output_type": "execute_result"
    }
   ],
   "source": [
    "R_NGMM_authorship[1]"
   ]
  }
 ],
 "metadata": {
  "kernelspec": {
   "display_name": "Python 3",
   "language": "python",
   "name": "python3"
  },
  "language_info": {
   "codemirror_mode": {
    "name": "ipython",
    "version": 3
   },
   "file_extension": ".py",
   "mimetype": "text/x-python",
   "name": "python",
   "nbconvert_exporter": "python",
   "pygments_lexer": "ipython3",
   "version": "3.7.4"
  }
 },
 "nbformat": 4,
 "nbformat_minor": 2
}
